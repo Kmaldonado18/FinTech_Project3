{
 "cells": [
  {
   "cell_type": "code",
   "execution_count": 1,
   "metadata": {},
   "outputs": [],
   "source": [
    "import os\n",
    "import binance\n",
    "import datetime\n",
    "from binance.client import Client\n",
    "from dotenv import load_dotenv"
   ]
  },
  {
   "cell_type": "code",
   "execution_count": 2,
   "metadata": {},
   "outputs": [],
   "source": [
    "load_dotenv()\n",
    "api_key = os.environ.get('api')\n",
    "api_secret = os.environ.get('secret')"
   ]
  },
  {
   "cell_type": "code",
   "execution_count": 3,
   "metadata": {},
   "outputs": [],
   "source": [
    "client = Client(api_key,api_secret)"
   ]
  },
  {
   "cell_type": "code",
   "execution_count": 4,
   "metadata": {},
   "outputs": [],
   "source": [
    "trades = client.get_historical_trades(symbol='BNBBTC')"
   ]
  },
  {
   "cell_type": "code",
   "execution_count": 5,
   "metadata": {},
   "outputs": [
    {
     "name": "stdout",
     "output_type": "stream",
     "text": [
      "{'makerCommission': 10, 'takerCommission': 10, 'buyerCommission': 0, 'sellerCommission': 0, 'canTrade': True, 'canWithdraw': True, 'canDeposit': True, 'updateTime': 1598025164502, 'accountType': 'MARGIN', 'balances': [{'asset': 'BTC', 'free': '0.00000000', 'locked': '0.00000000'}, {'asset': 'LTC', 'free': '0.00000000', 'locked': '0.00000000'}, {'asset': 'ETH', 'free': '0.00000000', 'locked': '0.00000000'}, {'asset': 'NEO', 'free': '0.00000000', 'locked': '0.00000000'}, {'asset': 'BNB', 'free': '0.00000000', 'locked': '0.00000000'}, {'asset': 'QTUM', 'free': '0.00000000', 'locked': '0.00000000'}, {'asset': 'EOS', 'free': '0.00000000', 'locked': '0.00000000'}, {'asset': 'SNT', 'free': '0.00000000', 'locked': '0.00000000'}, {'asset': 'BNT', 'free': '0.00000000', 'locked': '0.00000000'}, {'asset': 'GAS', 'free': '0.00000000', 'locked': '0.00000000'}, {'asset': 'BCC', 'free': '0.00000000', 'locked': '0.00000000'}, {'asset': 'USDT', 'free': '0.00000000', 'locked': '0.00000000'}, {'asset': 'HSR', 'free': '0.00000000', 'locked': '0.00000000'}, {'asset': 'OAX', 'free': '0.00000000', 'locked': '0.00000000'}, {'asset': 'DNT', 'free': '0.00000000', 'locked': '0.00000000'}, {'asset': 'MCO', 'free': '0.00000000', 'locked': '0.00000000'}, {'asset': 'ICN', 'free': '0.00000000', 'locked': '0.00000000'}, {'asset': 'ZRX', 'free': '0.00000000', 'locked': '0.00000000'}, {'asset': 'OMG', 'free': '0.00000000', 'locked': '0.00000000'}, {'asset': 'WTC', 'free': '0.00000000', 'locked': '0.00000000'}, {'asset': 'YOYO', 'free': '0.00000000', 'locked': '0.00000000'}, {'asset': 'LRC', 'free': '0.00000000', 'locked': '0.00000000'}, {'asset': 'TRX', 'free': '0.82651104', 'locked': '0.00000000'}, {'asset': 'SNGLS', 'free': '0.00000000', 'locked': '0.00000000'}, {'asset': 'STRAT', 'free': '0.00000000', 'locked': '0.00000000'}, {'asset': 'BQX', 'free': '0.00000000', 'locked': '0.00000000'}, {'asset': 'FUN', 'free': '0.00000000', 'locked': '0.00000000'}, {'asset': 'KNC', 'free': '0.00000000', 'locked': '0.00000000'}, {'asset': 'CDT', 'free': '0.00000000', 'locked': '0.00000000'}, {'asset': 'XVG', 'free': '0.00000000', 'locked': '0.00000000'}, {'asset': 'IOTA', 'free': '0.00000000', 'locked': '0.00000000'}, {'asset': 'SNM', 'free': '0.00000000', 'locked': '0.00000000'}, {'asset': 'LINK', 'free': '0.00000000', 'locked': '0.00000000'}, {'asset': 'CVC', 'free': '0.00000000', 'locked': '0.00000000'}, {'asset': 'TNT', 'free': '0.00000000', 'locked': '0.00000000'}, {'asset': 'REP', 'free': '0.00000000', 'locked': '0.00000000'}, {'asset': 'MDA', 'free': '0.00000000', 'locked': '0.00000000'}, {'asset': 'MTL', 'free': '0.00000000', 'locked': '0.00000000'}, {'asset': 'SALT', 'free': '0.00000000', 'locked': '0.00000000'}, {'asset': 'NULS', 'free': '0.00000000', 'locked': '0.00000000'}, {'asset': 'SUB', 'free': '0.00000000', 'locked': '0.00000000'}, {'asset': 'STX', 'free': '0.00000000', 'locked': '0.00000000'}, {'asset': 'MTH', 'free': '0.00000000', 'locked': '0.00000000'}, {'asset': 'ADX', 'free': '0.00000000', 'locked': '0.00000000'}, {'asset': 'ETC', 'free': '0.00000000', 'locked': '0.00000000'}, {'asset': 'ENG', 'free': '0.00000000', 'locked': '0.00000000'}, {'asset': 'ZEC', 'free': '0.00000000', 'locked': '0.00000000'}, {'asset': 'AST', 'free': '0.00000000', 'locked': '0.00000000'}, {'asset': 'GNT', 'free': '0.00000000', 'locked': '0.00000000'}, {'asset': 'DGD', 'free': '0.00000000', 'locked': '0.00000000'}, {'asset': 'BAT', 'free': '0.00000000', 'locked': '0.00000000'}, {'asset': 'DASH', 'free': '0.00000000', 'locked': '0.00000000'}, {'asset': 'POWR', 'free': '0.00000000', 'locked': '0.00000000'}, {'asset': 'BTG', 'free': '0.00000000', 'locked': '0.00000000'}, {'asset': 'REQ', 'free': '0.00000000', 'locked': '0.00000000'}, {'asset': 'XMR', 'free': '0.00000000', 'locked': '0.00000000'}, {'asset': 'EVX', 'free': '0.00000000', 'locked': '0.00000000'}, {'asset': 'VIB', 'free': '0.00000000', 'locked': '0.00000000'}, {'asset': 'ENJ', 'free': '0.00000000', 'locked': '0.00000000'}, {'asset': 'VEN', 'free': '0.00000000', 'locked': '0.00000000'}, {'asset': 'ARK', 'free': '0.00000000', 'locked': '0.00000000'}, {'asset': 'XRP', 'free': '0.00000000', 'locked': '0.00000000'}, {'asset': 'MOD', 'free': '0.00000000', 'locked': '0.00000000'}, {'asset': 'STORJ', 'free': '0.00000000', 'locked': '0.00000000'}, {'asset': 'KMD', 'free': '0.00000000', 'locked': '0.00000000'}, {'asset': 'RCN', 'free': '0.00000000', 'locked': '0.00000000'}, {'asset': 'EDO', 'free': '0.00000000', 'locked': '0.00000000'}, {'asset': 'DATA', 'free': '0.00000000', 'locked': '0.00000000'}, {'asset': 'DLT', 'free': '0.00000000', 'locked': '0.00000000'}, {'asset': 'MANA', 'free': '0.00000000', 'locked': '0.00000000'}, {'asset': 'PPT', 'free': '0.00000000', 'locked': '0.00000000'}, {'asset': 'RDN', 'free': '0.00000000', 'locked': '0.00000000'}, {'asset': 'GXS', 'free': '0.00000000', 'locked': '0.00000000'}, {'asset': 'AMB', 'free': '0.00000000', 'locked': '0.00000000'}, {'asset': 'ARN', 'free': '0.00000000', 'locked': '0.00000000'}, {'asset': 'BCPT', 'free': '0.00000000', 'locked': '0.00000000'}, {'asset': 'CND', 'free': '0.00000000', 'locked': '0.00000000'}, {'asset': 'GVT', 'free': '0.00000000', 'locked': '0.00000000'}, {'asset': 'POE', 'free': '0.00000000', 'locked': '0.00000000'}, {'asset': 'BTS', 'free': '0.00000000', 'locked': '0.00000000'}, {'asset': 'FUEL', 'free': '0.00000000', 'locked': '0.00000000'}, {'asset': 'XZC', 'free': '0.00000000', 'locked': '0.00000000'}, {'asset': 'QSP', 'free': '0.00000000', 'locked': '0.00000000'}, {'asset': 'LSK', 'free': '0.00000000', 'locked': '0.00000000'}, {'asset': 'BCD', 'free': '0.00000000', 'locked': '0.00000000'}, {'asset': 'TNB', 'free': '0.00000000', 'locked': '0.00000000'}, {'asset': 'ADA', 'free': '0.00000000', 'locked': '0.00000000'}, {'asset': 'LEND', 'free': '0.00000000', 'locked': '0.00000000'}, {'asset': 'XLM', 'free': '0.00000000', 'locked': '0.00000000'}, {'asset': 'CMT', 'free': '0.00000000', 'locked': '0.00000000'}, {'asset': 'WAVES', 'free': '0.00000000', 'locked': '0.00000000'}, {'asset': 'WABI', 'free': '0.00000000', 'locked': '0.00000000'}, {'asset': 'GTO', 'free': '0.00000000', 'locked': '0.00000000'}, {'asset': 'ICX', 'free': '0.00000000', 'locked': '0.00000000'}, {'asset': 'OST', 'free': '0.00000000', 'locked': '0.00000000'}, {'asset': 'ELF', 'free': '0.00000000', 'locked': '0.00000000'}, {'asset': 'AION', 'free': '0.00000000', 'locked': '0.00000000'}, {'asset': 'WINGS', 'free': '0.00000000', 'locked': '0.00000000'}, {'asset': 'BRD', 'free': '0.00000000', 'locked': '0.00000000'}, {'asset': 'NEBL', 'free': '0.00000000', 'locked': '0.00000000'}, {'asset': 'NAV', 'free': '0.00000000', 'locked': '0.00000000'}, {'asset': 'VIBE', 'free': '0.00000000', 'locked': '0.00000000'}, {'asset': 'LUN', 'free': '0.00000000', 'locked': '0.00000000'}, {'asset': 'TRIG', 'free': '0.00000000', 'locked': '0.00000000'}, {'asset': 'APPC', 'free': '0.00000000', 'locked': '0.00000000'}, {'asset': 'CHAT', 'free': '0.00000000', 'locked': '0.00000000'}, {'asset': 'RLC', 'free': '0.00000000', 'locked': '0.00000000'}, {'asset': 'INS', 'free': '0.00000000', 'locked': '0.00000000'}, {'asset': 'PIVX', 'free': '0.00000000', 'locked': '0.00000000'}, {'asset': 'IOST', 'free': '0.00000000', 'locked': '0.00000000'}, {'asset': 'STEEM', 'free': '0.00000000', 'locked': '0.00000000'}, {'asset': 'NANO', 'free': '0.00000000', 'locked': '0.00000000'}, {'asset': 'AE', 'free': '0.00000000', 'locked': '0.00000000'}, {'asset': 'VIA', 'free': '0.00000000', 'locked': '0.00000000'}, {'asset': 'BLZ', 'free': '0.00000000', 'locked': '0.00000000'}, {'asset': 'SYS', 'free': '0.00000000', 'locked': '0.00000000'}, {'asset': 'RPX', 'free': '0.00000000', 'locked': '0.00000000'}, {'asset': 'NCASH', 'free': '0.00000000', 'locked': '0.00000000'}, {'asset': 'POA', 'free': '0.00000000', 'locked': '0.00000000'}, {'asset': 'ONT', 'free': '0.00000000', 'locked': '0.00000000'}, {'asset': 'ZIL', 'free': '0.00000000', 'locked': '0.00000000'}, {'asset': 'STORM', 'free': '0.00000000', 'locked': '0.00000000'}, {'asset': 'XEM', 'free': '0.00000000', 'locked': '0.00000000'}, {'asset': 'WAN', 'free': '0.00000000', 'locked': '0.00000000'}, {'asset': 'WPR', 'free': '0.00000000', 'locked': '0.00000000'}, {'asset': 'QLC', 'free': '0.00000000', 'locked': '0.00000000'}, {'asset': 'GRS', 'free': '0.00000000', 'locked': '0.00000000'}, {'asset': 'CLOAK', 'free': '0.00000000', 'locked': '0.00000000'}, {'asset': 'LOOM', 'free': '0.00000000', 'locked': '0.00000000'}, {'asset': 'BCN', 'free': '0.00000000', 'locked': '0.00000000'}, {'asset': 'TUSD', 'free': '0.00000000', 'locked': '0.00000000'}, {'asset': 'ZEN', 'free': '0.00000000', 'locked': '0.00000000'}, {'asset': 'SKY', 'free': '0.00000000', 'locked': '0.00000000'}, {'asset': 'THETA', 'free': '0.00000000', 'locked': '0.00000000'}, {'asset': 'IOTX', 'free': '0.00000000', 'locked': '0.00000000'}, {'asset': 'QKC', 'free': '0.00000000', 'locked': '0.00000000'}, {'asset': 'AGI', 'free': '0.00000000', 'locked': '0.00000000'}, {'asset': 'NXS', 'free': '0.00000000', 'locked': '0.00000000'}, {'asset': 'SC', 'free': '0.00000000', 'locked': '0.00000000'}, {'asset': 'NPXS', 'free': '0.00000000', 'locked': '0.00000000'}, {'asset': 'KEY', 'free': '0.00000000', 'locked': '0.00000000'}, {'asset': 'NAS', 'free': '0.00000000', 'locked': '0.00000000'}, {'asset': 'MFT', 'free': '0.00000000', 'locked': '0.00000000'}, {'asset': 'DENT', 'free': '0.00000000', 'locked': '0.00000000'}, {'asset': 'IQ', 'free': '0.00000000', 'locked': '0.00000000'}, {'asset': 'ARDR', 'free': '0.00000000', 'locked': '0.00000000'}, {'asset': 'HOT', 'free': '0.00000000', 'locked': '0.00000000'}, {'asset': 'VET', 'free': '0.00000000', 'locked': '0.00000000'}, {'asset': 'DOCK', 'free': '0.00000000', 'locked': '0.00000000'}, {'asset': 'POLY', 'free': '0.00000000', 'locked': '0.00000000'}, {'asset': 'VTHO', 'free': '0.00000000', 'locked': '0.00000000'}, {'asset': 'ONG', 'free': '0.00000000', 'locked': '0.00000000'}, {'asset': 'PHX', 'free': '0.00000000', 'locked': '0.00000000'}, {'asset': 'HC', 'free': '0.00000000', 'locked': '0.00000000'}, {'asset': 'GO', 'free': '0.00000000', 'locked': '0.00000000'}, {'asset': 'PAX', 'free': '0.00000000', 'locked': '0.00000000'}, {'asset': 'RVN', 'free': '0.00000000', 'locked': '0.00000000'}, {'asset': 'DCR', 'free': '0.00000000', 'locked': '0.00000000'}, {'asset': 'USDC', 'free': '0.00000000', 'locked': '0.00000000'}, {'asset': 'MITH', 'free': '0.00000000', 'locked': '0.00000000'}, {'asset': 'BCHABC', 'free': '0.00000000', 'locked': '0.00000000'}, {'asset': 'BCHSV', 'free': '0.00000000', 'locked': '0.00000000'}, {'asset': 'REN', 'free': '0.00000000', 'locked': '0.00000000'}, {'asset': 'BTT', 'free': '437.84316273', 'locked': '0.00000000'}, {'asset': 'USDS', 'free': '0.00000000', 'locked': '0.00000000'}, {'asset': 'FET', 'free': '0.00000000', 'locked': '0.00000000'}, {'asset': 'TFUEL', 'free': '0.00000000', 'locked': '0.00000000'}, {'asset': 'CELR', 'free': '0.00000000', 'locked': '0.00000000'}, {'asset': 'MATIC', 'free': '0.00000000', 'locked': '0.00000000'}, {'asset': 'ATOM', 'free': '0.00000000', 'locked': '0.00000000'}, {'asset': 'PHB', 'free': '0.00000000', 'locked': '0.00000000'}, {'asset': 'ONE', 'free': '0.00000000', 'locked': '0.00000000'}, {'asset': 'FTM', 'free': '0.00000000', 'locked': '0.00000000'}, {'asset': 'BTCB', 'free': '0.00000000', 'locked': '0.00000000'}, {'asset': 'USDSB', 'free': '0.00000000', 'locked': '0.00000000'}, {'asset': 'CHZ', 'free': '0.00000000', 'locked': '0.00000000'}, {'asset': 'COS', 'free': '0.00000000', 'locked': '0.00000000'}, {'asset': 'ALGO', 'free': '0.00000000', 'locked': '0.00000000'}, {'asset': 'ERD', 'free': '0.00000000', 'locked': '0.00000000'}, {'asset': 'DOGE', 'free': '0.00000000', 'locked': '0.00000000'}, {'asset': 'BGBP', 'free': '0.00000000', 'locked': '0.00000000'}, {'asset': 'DUSK', 'free': '0.00000000', 'locked': '0.00000000'}, {'asset': 'ANKR', 'free': '0.00000000', 'locked': '0.00000000'}, {'asset': 'WIN', 'free': '370.48505759', 'locked': '0.00000000'}, {'asset': 'TUSDB', 'free': '0.00000000', 'locked': '0.00000000'}, {'asset': 'COCOS', 'free': '0.00000000', 'locked': '0.00000000'}, {'asset': 'PERL', 'free': '0.00000000', 'locked': '0.00000000'}, {'asset': 'TOMO', 'free': '0.00000000', 'locked': '0.00000000'}, {'asset': 'BUSD', 'free': '0.00000000', 'locked': '0.00000000'}, {'asset': 'BAND', 'free': '0.00000000', 'locked': '0.00000000'}, {'asset': 'BEAM', 'free': '0.00000000', 'locked': '0.00000000'}, {'asset': 'HBAR', 'free': '0.00000000', 'locked': '0.00000000'}, {'asset': 'XTZ', 'free': '0.00000000', 'locked': '0.00000000'}, {'asset': 'NGN', 'free': '0.00000000', 'locked': '0.00000000'}, {'asset': 'DGB', 'free': '0.00000000', 'locked': '0.00000000'}, {'asset': 'NKN', 'free': '0.00000000', 'locked': '0.00000000'}, {'asset': 'GBP', 'free': '0.00000000', 'locked': '0.00000000'}, {'asset': 'EUR', 'free': '0.00000000', 'locked': '0.00000000'}, {'asset': 'KAVA', 'free': '0.00000000', 'locked': '0.00000000'}, {'asset': 'RUB', 'free': '0.00000000', 'locked': '0.00000000'}, {'asset': 'UAH', 'free': '0.00000000', 'locked': '0.00000000'}, {'asset': 'ARPA', 'free': '0.00000000', 'locked': '0.00000000'}, {'asset': 'TRY', 'free': '0.00000000', 'locked': '0.00000000'}, {'asset': 'CTXC', 'free': '0.00000000', 'locked': '0.00000000'}, {'asset': 'BCH', 'free': '0.00000000', 'locked': '0.00000000'}, {'asset': 'TROY', 'free': '0.00000000', 'locked': '0.00000000'}, {'asset': 'VITE', 'free': '0.00000000', 'locked': '0.00000000'}, {'asset': 'FTT', 'free': '0.00000000', 'locked': '0.00000000'}, {'asset': 'AUD', 'free': '0.00000000', 'locked': '0.00000000'}, {'asset': 'OGN', 'free': '0.00000000', 'locked': '0.00000000'}, {'asset': 'DREP', 'free': '0.00000000', 'locked': '0.00000000'}, {'asset': 'BULL', 'free': '0.00000000', 'locked': '0.00000000'}, {'asset': 'BEAR', 'free': '0.00000000', 'locked': '0.00000000'}, {'asset': 'ETHBULL', 'free': '0.00000000', 'locked': '0.00000000'}, {'asset': 'ETHBEAR', 'free': '0.00000000', 'locked': '0.00000000'}, {'asset': 'XRPBULL', 'free': '0.00000000', 'locked': '0.00000000'}, {'asset': 'XRPBEAR', 'free': '0.00000000', 'locked': '0.00000000'}, {'asset': 'EOSBULL', 'free': '0.00000000', 'locked': '0.00000000'}, {'asset': 'EOSBEAR', 'free': '0.00000000', 'locked': '0.00000000'}, {'asset': 'TCT', 'free': '0.00000000', 'locked': '0.00000000'}, {'asset': 'WRX', 'free': '0.00000000', 'locked': '0.00000000'}, {'asset': 'LTO', 'free': '0.00000000', 'locked': '0.00000000'}, {'asset': 'ZAR', 'free': '0.00000000', 'locked': '0.00000000'}, {'asset': 'MBL', 'free': '0.00000000', 'locked': '0.00000000'}, {'asset': 'COTI', 'free': '0.00000000', 'locked': '0.00000000'}, {'asset': 'BKRW', 'free': '0.00000000', 'locked': '0.00000000'}, {'asset': 'BNBBULL', 'free': '0.00000000', 'locked': '0.00000000'}, {'asset': 'BNBBEAR', 'free': '0.00000000', 'locked': '0.00000000'}, {'asset': 'HIVE', 'free': '0.00000000', 'locked': '0.00000000'}, {'asset': 'STPT', 'free': '0.00000000', 'locked': '0.00000000'}, {'asset': 'SOL', 'free': '0.00000000', 'locked': '0.00000000'}, {'asset': 'IDRT', 'free': '0.00', 'locked': '0.00'}, {'asset': 'CTSI', 'free': '0.00000000', 'locked': '0.00000000'}, {'asset': 'CHR', 'free': '0.00000000', 'locked': '0.00000000'}, {'asset': 'BTCUP', 'free': '0.00000000', 'locked': '0.00000000'}, {'asset': 'BTCDOWN', 'free': '0.00000000', 'locked': '0.00000000'}, {'asset': 'JST', 'free': '4.41048344', 'locked': '0.00000000'}, {'asset': 'FIO', 'free': '0.00000000', 'locked': '0.00000000'}, {'asset': 'BIDR', 'free': '0.00', 'locked': '0.00'}, {'asset': 'STMX', 'free': '0.00000000', 'locked': '0.00000000'}, {'asset': 'MDT', 'free': '0.00000000', 'locked': '0.00000000'}, {'asset': 'PNT', 'free': '0.00000000', 'locked': '0.00000000'}, {'asset': 'COMP', 'free': '0.00000000', 'locked': '0.00000000'}, {'asset': 'IRIS', 'free': '0.00000000', 'locked': '0.00000000'}, {'asset': 'MKR', 'free': '0.00000000', 'locked': '0.00000000'}, {'asset': 'SXP', 'free': '0.00000000', 'locked': '0.00000000'}, {'asset': 'SNX', 'free': '0.00000000', 'locked': '0.00000000'}, {'asset': 'DAI', 'free': '0.00000000', 'locked': '0.00000000'}, {'asset': 'ETHUP', 'free': '0.00000000', 'locked': '0.00000000'}, {'asset': 'ETHDOWN', 'free': '0.00000000', 'locked': '0.00000000'}, {'asset': 'ADAUP', 'free': '0.00000000', 'locked': '0.00000000'}, {'asset': 'ADADOWN', 'free': '0.00000000', 'locked': '0.00000000'}, {'asset': 'LINKUP', 'free': '0.00000000', 'locked': '0.00000000'}, {'asset': 'LINKDOWN', 'free': '0.00000000', 'locked': '0.00000000'}, {'asset': 'DOT', 'free': '0.00000000', 'locked': '0.00000000'}, {'asset': 'RUNE', 'free': '0.00000000', 'locked': '0.00000000'}, {'asset': 'BNBUP', 'free': '0.00000000', 'locked': '0.00000000'}, {'asset': 'BNBDOWN', 'free': '0.00000000', 'locked': '0.00000000'}, {'asset': 'XTZUP', 'free': '0.00000000', 'locked': '0.00000000'}, {'asset': 'XTZDOWN', 'free': '0.00000000', 'locked': '0.00000000'}, {'asset': 'AVA', 'free': '0.00000000', 'locked': '0.00000000'}, {'asset': 'BAL', 'free': '0.00000000', 'locked': '0.00000000'}, {'asset': 'YFI', 'free': '0.00000000', 'locked': '0.00000000'}, {'asset': 'SRM', 'free': '0.00000000', 'locked': '0.00000000'}, {'asset': 'ANT', 'free': '0.00000000', 'locked': '0.00000000'}, {'asset': 'CRV', 'free': '0.00000000', 'locked': '0.00000000'}, {'asset': 'SAND', 'free': '0.00000000', 'locked': '0.00000000'}, {'asset': 'OCEAN', 'free': '0.00000000', 'locked': '0.00000000'}, {'asset': 'NMR', 'free': '0.00000000', 'locked': '0.00000000'}, {'asset': 'LUNA', 'free': '0.00000000', 'locked': '0.00000000'}, {'asset': 'IDEX', 'free': '0.00000000', 'locked': '0.00000000'}], 'permissions': ['SPOT']}\n"
     ]
    }
   ],
   "source": [
    "print(client.get_account())"
   ]
  },
  {
   "cell_type": "code",
   "execution_count": 6,
   "metadata": {},
   "outputs": [
    {
     "name": "stdout",
     "output_type": "stream",
     "text": [
      "{'asset': 'TRX', 'free': '0.82651104', 'locked': '0.00000000'}\n"
     ]
    }
   ],
   "source": [
    "#priting my balance on binance for Trx,\n",
    "print(client.get_asset_balance(asset='TRX'))\n"
   ]
  },
  {
   "cell_type": "code",
   "execution_count": 7,
   "metadata": {},
   "outputs": [
    {
     "name": "stdout",
     "output_type": "stream",
     "text": [
      "{'symbol': 'BTCUSDT', 'price': '11593.11000000'}\n"
     ]
    }
   ],
   "source": [
    "# get latest price from Binance API\n",
    "btc_price = client.get_symbol_ticker(symbol=\"BTCUSDT\")\n",
    "# print full output (dictionary)\n",
    "print(btc_price)"
   ]
  },
  {
   "cell_type": "code",
   "execution_count": 10,
   "metadata": {},
   "outputs": [
    {
     "ename": "BinanceAPIException",
     "evalue": "APIError(code=-2010): Account has insufficient balance for requested action.",
     "output_type": "error",
     "traceback": [
      "\u001b[0;31m---------------------------------------------------------------------------\u001b[0m",
      "\u001b[0;31mBinanceAPIException\u001b[0m                       Traceback (most recent call last)",
      "\u001b[0;32m<ipython-input-10-55d29c0c8f58>\u001b[0m in \u001b[0;36m<module>\u001b[0;34m\u001b[0m\n\u001b[1;32m      5\u001b[0m     \u001b[0mside\u001b[0m\u001b[0;34m=\u001b[0m\u001b[0mClient\u001b[0m\u001b[0;34m.\u001b[0m\u001b[0mSIDE_BUY\u001b[0m\u001b[0;34m,\u001b[0m\u001b[0;34m\u001b[0m\u001b[0;34m\u001b[0m\u001b[0m\n\u001b[1;32m      6\u001b[0m     \u001b[0mtype\u001b[0m\u001b[0;34m=\u001b[0m\u001b[0mClient\u001b[0m\u001b[0;34m.\u001b[0m\u001b[0mORDER_TYPE_MARKET\u001b[0m\u001b[0;34m,\u001b[0m\u001b[0;34m\u001b[0m\u001b[0;34m\u001b[0m\u001b[0m\n\u001b[0;32m----> 7\u001b[0;31m     quantity=1)\n\u001b[0m\u001b[1;32m      8\u001b[0m \u001b[0;34m\u001b[0m\u001b[0m\n\u001b[1;32m      9\u001b[0m \u001b[0;31m# get all symbol prices\u001b[0m\u001b[0;34m\u001b[0m\u001b[0;34m\u001b[0m\u001b[0;34m\u001b[0m\u001b[0m\n",
      "\u001b[0;32m~/opt/anaconda3/envs/cam/lib/python3.7/site-packages/binance/client.py\u001b[0m in \u001b[0;36mcreate_order\u001b[0;34m(self, **params)\u001b[0m\n\u001b[1;32m   1199\u001b[0m \u001b[0;34m\u001b[0m\u001b[0m\n\u001b[1;32m   1200\u001b[0m         \"\"\"\n\u001b[0;32m-> 1201\u001b[0;31m         \u001b[0;32mreturn\u001b[0m \u001b[0mself\u001b[0m\u001b[0;34m.\u001b[0m\u001b[0m_post\u001b[0m\u001b[0;34m(\u001b[0m\u001b[0;34m'order'\u001b[0m\u001b[0;34m,\u001b[0m \u001b[0;32mTrue\u001b[0m\u001b[0;34m,\u001b[0m \u001b[0mdata\u001b[0m\u001b[0;34m=\u001b[0m\u001b[0mparams\u001b[0m\u001b[0;34m)\u001b[0m\u001b[0;34m\u001b[0m\u001b[0;34m\u001b[0m\u001b[0m\n\u001b[0m\u001b[1;32m   1202\u001b[0m \u001b[0;34m\u001b[0m\u001b[0m\n\u001b[1;32m   1203\u001b[0m     \u001b[0;32mdef\u001b[0m \u001b[0morder_limit\u001b[0m\u001b[0;34m(\u001b[0m\u001b[0mself\u001b[0m\u001b[0;34m,\u001b[0m \u001b[0mtimeInForce\u001b[0m\u001b[0;34m=\u001b[0m\u001b[0mTIME_IN_FORCE_GTC\u001b[0m\u001b[0;34m,\u001b[0m \u001b[0;34m**\u001b[0m\u001b[0mparams\u001b[0m\u001b[0;34m)\u001b[0m\u001b[0;34m:\u001b[0m\u001b[0;34m\u001b[0m\u001b[0;34m\u001b[0m\u001b[0m\n",
      "\u001b[0;32m~/opt/anaconda3/envs/cam/lib/python3.7/site-packages/binance/client.py\u001b[0m in \u001b[0;36m_post\u001b[0;34m(self, path, signed, version, **kwargs)\u001b[0m\n\u001b[1;32m    238\u001b[0m \u001b[0;34m\u001b[0m\u001b[0m\n\u001b[1;32m    239\u001b[0m     \u001b[0;32mdef\u001b[0m \u001b[0m_post\u001b[0m\u001b[0;34m(\u001b[0m\u001b[0mself\u001b[0m\u001b[0;34m,\u001b[0m \u001b[0mpath\u001b[0m\u001b[0;34m,\u001b[0m \u001b[0msigned\u001b[0m\u001b[0;34m=\u001b[0m\u001b[0;32mFalse\u001b[0m\u001b[0;34m,\u001b[0m \u001b[0mversion\u001b[0m\u001b[0;34m=\u001b[0m\u001b[0mPUBLIC_API_VERSION\u001b[0m\u001b[0;34m,\u001b[0m \u001b[0;34m**\u001b[0m\u001b[0mkwargs\u001b[0m\u001b[0;34m)\u001b[0m\u001b[0;34m:\u001b[0m\u001b[0;34m\u001b[0m\u001b[0;34m\u001b[0m\u001b[0m\n\u001b[0;32m--> 240\u001b[0;31m         \u001b[0;32mreturn\u001b[0m \u001b[0mself\u001b[0m\u001b[0;34m.\u001b[0m\u001b[0m_request_api\u001b[0m\u001b[0;34m(\u001b[0m\u001b[0;34m'post'\u001b[0m\u001b[0;34m,\u001b[0m \u001b[0mpath\u001b[0m\u001b[0;34m,\u001b[0m \u001b[0msigned\u001b[0m\u001b[0;34m,\u001b[0m \u001b[0mversion\u001b[0m\u001b[0;34m,\u001b[0m \u001b[0;34m**\u001b[0m\u001b[0mkwargs\u001b[0m\u001b[0;34m)\u001b[0m\u001b[0;34m\u001b[0m\u001b[0;34m\u001b[0m\u001b[0m\n\u001b[0m\u001b[1;32m    241\u001b[0m \u001b[0;34m\u001b[0m\u001b[0m\n\u001b[1;32m    242\u001b[0m     \u001b[0;32mdef\u001b[0m \u001b[0m_put\u001b[0m\u001b[0;34m(\u001b[0m\u001b[0mself\u001b[0m\u001b[0;34m,\u001b[0m \u001b[0mpath\u001b[0m\u001b[0;34m,\u001b[0m \u001b[0msigned\u001b[0m\u001b[0;34m=\u001b[0m\u001b[0;32mFalse\u001b[0m\u001b[0;34m,\u001b[0m \u001b[0mversion\u001b[0m\u001b[0;34m=\u001b[0m\u001b[0mPUBLIC_API_VERSION\u001b[0m\u001b[0;34m,\u001b[0m \u001b[0;34m**\u001b[0m\u001b[0mkwargs\u001b[0m\u001b[0;34m)\u001b[0m\u001b[0;34m:\u001b[0m\u001b[0;34m\u001b[0m\u001b[0;34m\u001b[0m\u001b[0m\n",
      "\u001b[0;32m~/opt/anaconda3/envs/cam/lib/python3.7/site-packages/binance/client.py\u001b[0m in \u001b[0;36m_request_api\u001b[0;34m(self, method, path, signed, version, **kwargs)\u001b[0m\n\u001b[1;32m    200\u001b[0m         \u001b[0muri\u001b[0m \u001b[0;34m=\u001b[0m \u001b[0mself\u001b[0m\u001b[0;34m.\u001b[0m\u001b[0m_create_api_uri\u001b[0m\u001b[0;34m(\u001b[0m\u001b[0mpath\u001b[0m\u001b[0;34m,\u001b[0m \u001b[0msigned\u001b[0m\u001b[0;34m,\u001b[0m \u001b[0mversion\u001b[0m\u001b[0;34m)\u001b[0m\u001b[0;34m\u001b[0m\u001b[0;34m\u001b[0m\u001b[0m\n\u001b[1;32m    201\u001b[0m \u001b[0;34m\u001b[0m\u001b[0m\n\u001b[0;32m--> 202\u001b[0;31m         \u001b[0;32mreturn\u001b[0m \u001b[0mself\u001b[0m\u001b[0;34m.\u001b[0m\u001b[0m_request\u001b[0m\u001b[0;34m(\u001b[0m\u001b[0mmethod\u001b[0m\u001b[0;34m,\u001b[0m \u001b[0muri\u001b[0m\u001b[0;34m,\u001b[0m \u001b[0msigned\u001b[0m\u001b[0;34m,\u001b[0m \u001b[0;34m**\u001b[0m\u001b[0mkwargs\u001b[0m\u001b[0;34m)\u001b[0m\u001b[0;34m\u001b[0m\u001b[0;34m\u001b[0m\u001b[0m\n\u001b[0m\u001b[1;32m    203\u001b[0m \u001b[0;34m\u001b[0m\u001b[0m\n\u001b[1;32m    204\u001b[0m     \u001b[0;32mdef\u001b[0m \u001b[0m_request_withdraw_api\u001b[0m\u001b[0;34m(\u001b[0m\u001b[0mself\u001b[0m\u001b[0;34m,\u001b[0m \u001b[0mmethod\u001b[0m\u001b[0;34m,\u001b[0m \u001b[0mpath\u001b[0m\u001b[0;34m,\u001b[0m \u001b[0msigned\u001b[0m\u001b[0;34m=\u001b[0m\u001b[0;32mFalse\u001b[0m\u001b[0;34m,\u001b[0m \u001b[0;34m**\u001b[0m\u001b[0mkwargs\u001b[0m\u001b[0;34m)\u001b[0m\u001b[0;34m:\u001b[0m\u001b[0;34m\u001b[0m\u001b[0;34m\u001b[0m\u001b[0m\n",
      "\u001b[0;32m~/opt/anaconda3/envs/cam/lib/python3.7/site-packages/binance/client.py\u001b[0m in \u001b[0;36m_request\u001b[0;34m(self, method, uri, signed, force_params, **kwargs)\u001b[0m\n\u001b[1;32m    195\u001b[0m \u001b[0;34m\u001b[0m\u001b[0m\n\u001b[1;32m    196\u001b[0m         \u001b[0mself\u001b[0m\u001b[0;34m.\u001b[0m\u001b[0mresponse\u001b[0m \u001b[0;34m=\u001b[0m \u001b[0mgetattr\u001b[0m\u001b[0;34m(\u001b[0m\u001b[0mself\u001b[0m\u001b[0;34m.\u001b[0m\u001b[0msession\u001b[0m\u001b[0;34m,\u001b[0m \u001b[0mmethod\u001b[0m\u001b[0;34m)\u001b[0m\u001b[0;34m(\u001b[0m\u001b[0muri\u001b[0m\u001b[0;34m,\u001b[0m \u001b[0;34m**\u001b[0m\u001b[0mkwargs\u001b[0m\u001b[0;34m)\u001b[0m\u001b[0;34m\u001b[0m\u001b[0;34m\u001b[0m\u001b[0m\n\u001b[0;32m--> 197\u001b[0;31m         \u001b[0;32mreturn\u001b[0m \u001b[0mself\u001b[0m\u001b[0;34m.\u001b[0m\u001b[0m_handle_response\u001b[0m\u001b[0;34m(\u001b[0m\u001b[0;34m)\u001b[0m\u001b[0;34m\u001b[0m\u001b[0;34m\u001b[0m\u001b[0m\n\u001b[0m\u001b[1;32m    198\u001b[0m \u001b[0;34m\u001b[0m\u001b[0m\n\u001b[1;32m    199\u001b[0m     \u001b[0;32mdef\u001b[0m \u001b[0m_request_api\u001b[0m\u001b[0;34m(\u001b[0m\u001b[0mself\u001b[0m\u001b[0;34m,\u001b[0m \u001b[0mmethod\u001b[0m\u001b[0;34m,\u001b[0m \u001b[0mpath\u001b[0m\u001b[0;34m,\u001b[0m \u001b[0msigned\u001b[0m\u001b[0;34m=\u001b[0m\u001b[0;32mFalse\u001b[0m\u001b[0;34m,\u001b[0m \u001b[0mversion\u001b[0m\u001b[0;34m=\u001b[0m\u001b[0mPUBLIC_API_VERSION\u001b[0m\u001b[0;34m,\u001b[0m \u001b[0;34m**\u001b[0m\u001b[0mkwargs\u001b[0m\u001b[0;34m)\u001b[0m\u001b[0;34m:\u001b[0m\u001b[0;34m\u001b[0m\u001b[0;34m\u001b[0m\u001b[0m\n",
      "\u001b[0;32m~/opt/anaconda3/envs/cam/lib/python3.7/site-packages/binance/client.py\u001b[0m in \u001b[0;36m_handle_response\u001b[0;34m(self)\u001b[0m\n\u001b[1;32m    228\u001b[0m         \"\"\"\n\u001b[1;32m    229\u001b[0m         \u001b[0;32mif\u001b[0m \u001b[0;32mnot\u001b[0m \u001b[0mstr\u001b[0m\u001b[0;34m(\u001b[0m\u001b[0mself\u001b[0m\u001b[0;34m.\u001b[0m\u001b[0mresponse\u001b[0m\u001b[0;34m.\u001b[0m\u001b[0mstatus_code\u001b[0m\u001b[0;34m)\u001b[0m\u001b[0;34m.\u001b[0m\u001b[0mstartswith\u001b[0m\u001b[0;34m(\u001b[0m\u001b[0;34m'2'\u001b[0m\u001b[0;34m)\u001b[0m\u001b[0;34m:\u001b[0m\u001b[0;34m\u001b[0m\u001b[0;34m\u001b[0m\u001b[0m\n\u001b[0;32m--> 230\u001b[0;31m             \u001b[0;32mraise\u001b[0m \u001b[0mBinanceAPIException\u001b[0m\u001b[0;34m(\u001b[0m\u001b[0mself\u001b[0m\u001b[0;34m.\u001b[0m\u001b[0mresponse\u001b[0m\u001b[0;34m)\u001b[0m\u001b[0;34m\u001b[0m\u001b[0;34m\u001b[0m\u001b[0m\n\u001b[0m\u001b[1;32m    231\u001b[0m         \u001b[0;32mtry\u001b[0m\u001b[0;34m:\u001b[0m\u001b[0;34m\u001b[0m\u001b[0;34m\u001b[0m\u001b[0m\n\u001b[1;32m    232\u001b[0m             \u001b[0;32mreturn\u001b[0m \u001b[0mself\u001b[0m\u001b[0;34m.\u001b[0m\u001b[0mresponse\u001b[0m\u001b[0;34m.\u001b[0m\u001b[0mjson\u001b[0m\u001b[0;34m(\u001b[0m\u001b[0;34m)\u001b[0m\u001b[0;34m\u001b[0m\u001b[0;34m\u001b[0m\u001b[0m\n",
      "\u001b[0;31mBinanceAPIException\u001b[0m: APIError(code=-2010): Account has insufficient balance for requested action."
     ]
    }
   ],
   "source": [
    "#since i dont have enough funds we get this error, but it is actually connecting to my binance account\n",
    "\n",
    "order = client.create_order(  #create_test_order\n",
    "    symbol='BNBBTC',\n",
    "    side=Client.SIDE_BUY,\n",
    "    type=Client.ORDER_TYPE_MARKET,\n",
    "    quantity=1)\n",
    "\n",
    "# get all symbol prices\n",
    "\n",
    "prices = client.get_all_tickers()"
   ]
  },
  {
   "cell_type": "code",
   "execution_count": null,
   "metadata": {},
   "outputs": [],
   "source": []
  }
 ],
 "metadata": {
  "kernelspec": {
   "display_name": "Python 3",
   "language": "python",
   "name": "python3"
  },
  "language_info": {
   "codemirror_mode": {
    "name": "ipython",
    "version": 3
   },
   "file_extension": ".py",
   "mimetype": "text/x-python",
   "name": "python",
   "nbconvert_exporter": "python",
   "pygments_lexer": "ipython3",
   "version": "3.7.7"
  }
 },
 "nbformat": 4,
 "nbformat_minor": 4
}
