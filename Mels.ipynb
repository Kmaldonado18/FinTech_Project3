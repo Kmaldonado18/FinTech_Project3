{
 "metadata": {
  "language_info": {
   "codemirror_mode": {
    "name": "ipython",
    "version": 3
   },
   "file_extension": ".py",
   "mimetype": "text/x-python",
   "name": "python",
   "nbconvert_exporter": "python",
   "pygments_lexer": "ipython3",
   "version": "3.7.4-final"
  },
  "orig_nbformat": 2,
  "kernelspec": {
   "name": "python_defaultSpec_1597804320463",
   "display_name": "Python 3.7.4 64-bit ('anaconda3': virtualenv)"
  }
 },
 "nbformat": 4,
 "nbformat_minor": 2,
 "cells": [
  {
   "cell_type": "code",
   "execution_count": null,
   "metadata": {},
   "outputs": [],
   "source": [
    "#import relevant libraries \n",
    "import pandas as pd\n",
    "import plotly.express as px\n",
    "import panel as pn\n",
    "import hvplot.pandas\n",
    "import requests\n",
    "import json\n",
    "import numpy as np\n",
    "import matplotlib.pyplot as plt\n",
    "import json\n",
    "from pathlib import Path\n",
    "import alpaca_trade_api as tradeapi\n",
    "from dotenv import load_dotenv\n",
    "import os\n",
    "from datetime import datetime, timedelta,date\n",
    "from pandas import DataFrame\n",
    "\n"
   ]
  },
  {
   "cell_type": "code",
   "execution_count": null,
   "metadata": {},
   "outputs": [],
   "source": [
    "## Get Market Data for S&P500 \n",
    "#engage API keys by activating .env file for Alpaca Api\n",
    "load_dotenv()\n",
    "alpaca_api_key = os.getenv(\"ALPACA_API_KEY\")\n",
    "alpaca_secret_key = os.getenv(\"ALPACA_SECRET_KEY\")\n",
    "api = tradeapi.REST(alpaca_api_key, alpaca_secret_key, api_version='v2')\n",
    "\n",
    "#function to read the api data for stock ticker\n",
    "#returns dataframe of closing price and daily returns for a given ticker symbol\n",
    "def get_ticker_data(api,ticker):\n",
    "    #load in historical data for provided ticker\n",
    "    stock_data_df = api.alpha_vantage.historic_quotes(ticker, adjusted=True, output_format='pandas')\n",
    "\n",
    "    #Clean Data\n",
    "    \n",
    "\n",
    "    #Sort earliest to latest. so that .pct_change() function works right.\n",
    "    stock_data_df.sort_index(inplace=True, ascending=True)\n",
    "\n",
    "    # Drop nulls\n",
    "    stock_data_df.dropna(inplace=True)\n",
    "\n",
    "    # drop duplicates\n",
    "    stock_data_df.drop_duplicates(inplace=True)\n",
    "\n",
    "    #count nulls \n",
    "    stock_data_df.isnull().sum()\n",
    "\n",
    "    #create a dataframe column for the daily returns (pct_change) values and concat \n",
    "    returns_df = stock_data_df['5. adjusted close'].pct_change()\n",
    "    stock_data_df = pd.concat([stock_data_df, returns_df], axis=\"columns\", join=\"inner\")\n",
    "\n",
    "    #Change column names to avoid confusion\n",
    "    columns = ['Open','High','Low','Close','Adjusted Close','Volume','Dividend Amount','Split Coefficient','Daily Returns']\n",
    "    stock_data_df.columns = columns\n",
    "\n",
    "    # Drop nulls\n",
    "    stock_data_df.dropna(inplace=True)\n",
    "\n",
    "    #drop duplicates\n",
    "    stock_data_df.drop_duplicates(inplace=True) \n",
    "    return stock_data_df"
   ]
  },
  {
   "cell_type": "code",
   "execution_count": 1,
   "metadata": {},
   "outputs": [
    {
     "output_type": "error",
     "ename": "NameError",
     "evalue": "name 'get_ticker_data' is not defined",
     "traceback": [
      "\u001b[0;31m---------------------------------------------------------------------------\u001b[0m",
      "\u001b[0;31mNameError\u001b[0m                                 Traceback (most recent call last)",
      "\u001b[0;32m<ipython-input-1-0f3d6643f531>\u001b[0m in \u001b[0;36m<module>\u001b[0;34m\u001b[0m\n\u001b[0;32m----> 1\u001b[0;31m \u001b[0mstock_data_df\u001b[0m\u001b[0;34m=\u001b[0m\u001b[0mget_ticker_data\u001b[0m\u001b[0;34m(\u001b[0m\u001b[0mapi\u001b[0m\u001b[0;34m,\u001b[0m\u001b[0;34m'SPY'\u001b[0m\u001b[0;34m)\u001b[0m\u001b[0;34m\u001b[0m\u001b[0;34m\u001b[0m\u001b[0m\n\u001b[0m",
      "\u001b[0;31mNameError\u001b[0m: name 'get_ticker_data' is not defined"
     ]
    }
   ],
   "source": [
    "stock_data_df=get_ticker_data(api,'SPY')"
   ]
  },
  {
   "cell_type": "code",
   "execution_count": 2,
   "metadata": {},
   "outputs": [],
   "source": [
    "# function to get the MACD Value of the returns\n",
    "# return MACD signal values dataframe\n",
    "def get_MACD(stock_data_df,ticker, span1, span2,span3): ##typically span = 12, 26, 9\n",
    "    # Grab just the `date` and `close` from the dataset\n",
    "    macd_signals = stock_data_df.loc[:, ['Close']].copy()\n",
    "\n",
    "    \n",
    "    exp1 = macd_signals.Close.ewm(span1, adjust=False).mean()\n",
    "    exp2 = macd_signals.Close.ewm(span2, adjust=False).mean()\n",
    "    macd = exp1-exp2\n",
    "    macd_out = macd.ewm(span3, adjust=False).mean()\n",
    "    \n",
    "    macd_signals[\"Signal\"] = np.where(macd > macd_out, 1.0, 0.0)\n",
    "    macd_signals[\"MACD Entry/Exit\"] = mac_signals[\"Signal\"].diff()\n",
    "\n",
    "    return macd_signals\n"
   ]
  },
  {
   "cell_type": "code",
   "execution_count": 7,
   "metadata": {},
   "outputs": [
    {
     "output_type": "error",
     "ename": "NameError",
     "evalue": "name 'self' is not defined",
     "traceback": [
      "\u001b[1;31m---------------------------------------------------------------------------\u001b[0m",
      "\u001b[1;31mNameError\u001b[0m                                 Traceback (most recent call last)",
      "\u001b[1;32m<ipython-input-7-8729d34bd63e>\u001b[0m in \u001b[0;36m<module>\u001b[1;34m\u001b[0m\n\u001b[1;32m----> 1\u001b[1;33m \u001b[1;32mclass\u001b[0m \u001b[0mMACDSimulator\u001b[0m\u001b[1;33m:\u001b[0m\u001b[1;33m\u001b[0m\u001b[1;33m\u001b[0m\u001b[0m\n\u001b[0m\u001b[0;32m      2\u001b[0m     \u001b[1;32mdef\u001b[0m \u001b[0m_init_\u001b[0m\u001b[1;33m(\u001b[0m\u001b[0mself\u001b[0m\u001b[1;33m,\u001b[0m \u001b[0mstock_data_df\u001b[0m\u001b[1;33m,\u001b[0m \u001b[0mticker\u001b[0m\u001b[1;33m,\u001b[0m \u001b[0mspan1\u001b[0m\u001b[1;33m,\u001b[0m \u001b[0mspan2\u001b[0m\u001b[1;33m,\u001b[0m \u001b[0mspan3\u001b[0m\u001b[1;33m,\u001b[0m \u001b[0mfigsize\u001b[0m \u001b[1;33m=\u001b[0m \u001b[1;32mNone\u001b[0m\u001b[1;33m)\u001b[0m\u001b[1;33m:\u001b[0m\u001b[1;33m\u001b[0m\u001b[1;33m\u001b[0m\u001b[0m\n\u001b[0;32m      3\u001b[0m         \u001b[0mself\u001b[0m\u001b[1;33m.\u001b[0m\u001b[0mstock_data_df\u001b[0m \u001b[1;33m=\u001b[0m \u001b[0mstock_data_df\u001b[0m\u001b[1;33m\u001b[0m\u001b[1;33m\u001b[0m\u001b[0m\n\u001b[0;32m      4\u001b[0m         \u001b[0mself\u001b[0m\u001b[1;33m.\u001b[0m\u001b[0mticker\u001b[0m \u001b[1;33m=\u001b[0m \u001b[0mticker\u001b[0m\u001b[1;33m\u001b[0m\u001b[1;33m\u001b[0m\u001b[0m\n\u001b[0;32m      5\u001b[0m         \u001b[0mself\u001b[0m\u001b[1;33m.\u001b[0m\u001b[0mspan1\u001b[0m \u001b[1;33m=\u001b[0m \u001b[0mspan1\u001b[0m\u001b[1;33m\u001b[0m\u001b[1;33m\u001b[0m\u001b[0m\n",
      "\u001b[1;32m<ipython-input-7-8729d34bd63e>\u001b[0m in \u001b[0;36mMACDSimulator\u001b[1;34m()\u001b[0m\n\u001b[0;32m     21\u001b[0m \u001b[1;33m\u001b[0m\u001b[0m\n\u001b[0;32m     22\u001b[0m         \u001b[0mself\u001b[0m\u001b[1;33m.\u001b[0m\u001b[0mstock_data_df\u001b[0m\u001b[1;33m[\u001b[0m\u001b[1;34m\"Signal\"\u001b[0m\u001b[1;33m]\u001b[0m \u001b[1;33m=\u001b[0m \u001b[0mnp\u001b[0m\u001b[1;33m.\u001b[0m\u001b[0mwhere\u001b[0m\u001b[1;33m(\u001b[0m\u001b[0mself\u001b[0m\u001b[1;33m.\u001b[0m\u001b[0mstock_data_df\u001b[0m\u001b[1;33m.\u001b[0m\u001b[0mmacd\u001b[0m \u001b[1;33m>\u001b[0m \u001b[0mmacd_out\u001b[0m\u001b[1;33m,\u001b[0m \u001b[1;36m1.0\u001b[0m\u001b[1;33m,\u001b[0m \u001b[1;36m0.0\u001b[0m\u001b[1;33m,\u001b[0m \u001b[1;33m-\u001b[0m\u001b[1;36m1.0\u001b[0m\u001b[1;33m)\u001b[0m\u001b[1;33m\u001b[0m\u001b[1;33m\u001b[0m\u001b[0m\n\u001b[1;32m---> 23\u001b[1;33m     \u001b[0mself\u001b[0m\u001b[1;33m.\u001b[0m\u001b[0mstock_data\u001b[0m\u001b[1;33m.\u001b[0m\u001b[0mdf\u001b[0m\u001b[1;33m[\u001b[0m\u001b[1;34m\"MACD Entry/Exit\"\u001b[0m\u001b[1;33m]\u001b[0m \u001b[1;33m=\u001b[0m \u001b[0mself\u001b[0m\u001b[1;33m.\u001b[0m\u001b[0mstock_data\u001b[0m\u001b[1;33m.\u001b[0m\u001b[0mdf\u001b[0m\u001b[1;33m[\u001b[0m\u001b[1;34m\"Signal\"\u001b[0m\u001b[1;33m]\u001b[0m\u001b[1;33m.\u001b[0m\u001b[0mdiff\u001b[0m\u001b[1;33m(\u001b[0m\u001b[1;33m)\u001b[0m\u001b[1;33m\u001b[0m\u001b[1;33m\u001b[0m\u001b[0m\n\u001b[0m\u001b[0;32m     24\u001b[0m \u001b[1;33m\u001b[0m\u001b[0m\n\u001b[0;32m     25\u001b[0m \u001b[1;33m\u001b[0m\u001b[0m\n",
      "\u001b[1;31mNameError\u001b[0m: name 'self' is not defined"
     ]
    }
   ],
   "source": [
    "class MACDSimulator:\n",
    "    def _init_(self, stock_data_df, ticker, span1, span2, span3, figsize = None):\n",
    "        self.stock_data_df = stock_data_df\n",
    "        self.ticker = ticker\n",
    "        self.span1 = span1\n",
    "        self.span2 = span2\n",
    "        self.span3 = span3\n",
    "        self.figsize = figsize\n",
    "\n",
    "    def _build_dataframe(self):\n",
    "        self.stock_data_df.sort_index(ascending=True, inplace=True)\n",
    "    \n",
    "    def _macd(self):\n",
    "        self.stock_data_df['exp1'] = self.stock_data_df.Close.ewm(span1, adjust=False).mean()\n",
    "        self.stock_data_df['exp2'] = self.stock_data_df.Close.ewm(span2, adjust=False).mean()\n",
    "        self.stock_data_df['macd'] = exp1-exp2\n",
    "        macd_out = macd.ewm(span3, adjust=False).mean()\n",
    "\n",
    "    def _calculate_macd_signals(self):\n",
    "        self.stock_data_df['Signal'] = None\n",
    "\n",
    "        self.stock_data_df[\"Signal\"] = np.where(self.stock_data_df.macd > macd_out, 1.0, 0.0, -1.0)\n",
    "    self.stock_data.df[\"MACD Entry/Exit\"] = self.stock_data.df[\"Signal\"].diff()\n",
    "\n",
    "\n",
    "        \n"
   ]
  },
  {
   "cell_type": "code",
   "execution_count": 3,
   "metadata": {},
   "outputs": [],
   "source": [
    "def macd_plt(macd_signals, stock_data):\n",
    "\n",
    "    plt.plot(stock_data.Close.ds, macd_signals)\n",
    "    plt.plot(stock_data.Close.ds, exp3)\n",
    "    plt.legend(loc='upper left')\n",
    "    plt.show()\n"
   ]
  },
  {
   "cell_type": "code",
   "execution_count": null,
   "metadata": {},
   "outputs": [],
   "source": [
    "exp1 = df.y.ewm(span=12, adjust=False).mean()\n",
    "exp2 = df.y.ewm(span=26, adjust=False).mean()\n",
    "exp3 = df.y.ewm(span=9, adjust=False).mean()\n",
    "macd = exp1-exp2\n",
    "plt.plot(df.ds, df.y)\n",
    "plt.plot(df.ds, macd, label='AMD MACD', color='orange')\n",
    "plt.plot(df.ds, exp3, label='Signal Line', color='Magenta')\n",
    "plt.legend(loc='upper left')\n",
    "plt.show()\n"
   ]
  }
 ]
}