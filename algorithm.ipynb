{
 "metadata": {
  "language_info": {
   "codemirror_mode": {
    "name": "ipython",
    "version": 3
   },
   "file_extension": ".py",
   "mimetype": "text/x-python",
   "name": "python",
   "nbconvert_exporter": "python",
   "pygments_lexer": "ipython3",
   "version": 3
  },
  "orig_nbformat": 2
 },
 "nbformat": 4,
 "nbformat_minor": 2,
 "cells": [
  {
   "cell_type": "code",
   "execution_count": null,
   "metadata": {},
   "outputs": [],
   "source": [
    "#import relevant libraries \n",
    "import pandas as pd\n",
    "import plotly.express as px\n",
    "import panel as pn\n",
    "import hvplot.pandas\n",
    "import requests\n",
    "import json\n",
    "import numpy as np\n",
    "import matplotlib.pyplot as plt\n",
    "import json\n",
    "from pathlib import Path\n",
    "import alpaca_trade_api as tradeapi\n",
    "from dotenv import load_dotenv\n",
    "import os\n",
    "from datetime import datetime, timedelta,date\n",
    "from pandas import DataFrame"
   ]
  },
  {
   "cell_type": "code",
   "execution_count": null,
   "metadata": {},
   "outputs": [],
   "source": [
    "## Get Market Data for S&P500 \n",
    "#engage API keys by activating .env file for Alpaca Api\n",
    "load_dotenv()\n",
    "alpaca_api_key = os.getenv(\"ALPACA_API_KEY\")\n",
    "alpaca_secret_key = os.getenv(\"ALPACA_SECRET_KEY\")\n",
    "api = tradeapi.REST(alpaca_api_key, alpaca_secret_key, api_version='v2')\n",
    "\n",
    "#function to read the api data for stock ticker\n",
    "#returns dataframe of closing price and daily returns for a given ticker symbol\n",
    "def get_ticker_data(api,ticker):\n",
    "    #load in historical data for provided ticker\n",
    "    ticker_df = api.alpha_vantage.historic_quotes(ticker, adjusted=True, output_format='pandas')\n",
    "\n",
    "    #Clean Data\n",
    "    #Select the column we need,  \"adjusted close\", and drop the others\n",
    "    ticker_df = ticker_df['5. adjusted close']\n",
    "    #Sort earliest to latest so that .pct_change() function works right.\n",
    "    ticker_df.sort_index(inplace=True, ascending=True)\n",
    "\n",
    "    #create a dataframe column for the daily returns (pct_change) values and concat with SP500 close\n",
    "    returns_df = ticker_df.pct_change()\n",
    "    all_returns_df = pd.concat([ticker_df, returns_df], axis=\"columns\", join=\"inner\")\n",
    "\n",
    "    #Change column names to avoid confusion\n",
    "    columns = [f\"{ticker} Close\",f\"{ticker} Daily Returns\"]\n",
    "    all_returns_df.columns = columns\n",
    "\n",
    "    # Drop nulls\n",
    "    all_returns_df.dropna(inplace=True)\n",
    "\n",
    "    #drop duplicates\n",
    "    all_returns_df.drop_duplicates(inplace=True) \n",
    "    return all_returns_df"
   ]
  },
  {
   "cell_type": "code",
   "execution_count": null,
   "metadata": {},
   "outputs": [],
   "source": [
    "# function to get the SMA of the returns\n",
    "# return EMA signal values dataframe\n",
    "def get_EMA(all_returns_df,ticker):\n",
    "    # Grab just the `date` and `close` from the dataset\n",
    "    ema_signals = all_returns_df.loc[:, [f\"{ticker} 500 close\"]].copy()\n",
    "\n",
    "    # Set the short window and long windows\n",
    "    short_window = 50\n",
    "    long_window = 100\n",
    "\n",
    "    # Generate the short and long exponential moving averages (50 and 100 days, respectively)\n",
    "    ema_signals[\"EWM50\"] = ema_signals[f\"{ticker} 500 close\"].ewm(span=short_window).mean()\n",
    "    ema_signals[\"EWM100\"] = ema_signals[f\"{ticker} 500 close\"].ewm(span=long_window).mean()\n",
    "    ema_signals[\"Signal\"] = 0.0\n",
    "\n",
    "    # Generate the trading signal 0 or 1,\n",
    "    # where 0 is when the EWM50 is under the EWM100, and\n",
    "    # where 1 is when the EWM50 is higher (or crosses over) the SMA100\n",
    "    ema_signals[\"Signal\"][short_window:] = np.where(\n",
    "    ema_signals[\"EWM50\"][short_window:] > ema_signals[\"EWM100\"][short_window:], 1.0, 0.0\n",
    "    )\n",
    "    # Calculate the points in time at which a position should be taken, 1 or -1\n",
    "    ema_signals[\"Entry/Exit\"] = ema_signals[\"Signal\"].diff()\n",
    "\n",
    "    ema_signals.head(10)# Grab just the `date` and `close` from the dataset\n",
    "    ema_signals = all_returns_df.loc[:, [f\"{ticker} 500 close\"]].copy()\n",
    "\n",
    "    # Set the short window and long windows\n",
    "    short_window = 50\n",
    "    long_window = 100\n",
    "\n",
    "    # Generate the short and long exponential moving averages (50 and 100 days, respectively)\n",
    "    ema_signals[\"EWM50\"] = ema_signals[f\"{ticker} 500 close\"].ewm(span=short_window).mean()\n",
    "    ema_signals[\"EWM100\"] = ema_signals[f\"{ticker} 500 close\"].ewm(span=long_window).mean()\n",
    "    ema_signals[\"Signal\"] = 0.0\n",
    "\n",
    "    # Generate the trading signal 0 or 1,\n",
    "    # where 0 is when the EWM50 is under the EWM100, and\n",
    "    # where 1 is when the EWM50 is higher (or crosses over) the SMA100\n",
    "    ema_signals[\"Signal\"][short_window:] = np.where(\n",
    "    ema_signals[\"EWM50\"][short_window:] > ema_signals[\"EWM100\"][short_window:], 1.0, 0.0\n",
    "    )\n",
    "    # Calculate the points in time at which a position should be taken, 1 or -1\n",
    "    ema_signals[\"EMA Entry/Exit\"] = ema_signals[\"Signal\"].diff()\n",
    "\n",
    "    return ema_signal_df"
   ]
  },
  {
   "cell_type": "code",
   "execution_count": null,
   "metadata": {},
   "outputs": [],
   "source": [
    "# function to get the Bolinger Bands of the returns\n",
    "# return Bolinger Band signal values dataframe\n",
    "def get_Bolinger(all_returns_df,ticker):\n",
    "    "
   ]
  },
  {
   "cell_type": "code",
   "execution_count": null,
   "metadata": {},
   "outputs": [],
   "source": [
    "# function to get the MACD Value of the returns\n",
    "# return MACD signal values dataframe\n",
    "def get_MACD(all_returns_df,ticker):"
   ]
  },
  {
   "cell_type": "code",
   "execution_count": null,
   "metadata": {},
   "outputs": [],
   "source": [
    "#function to get all trading signals\n",
    "#return data frame holding trading signals\n",
    "def get_trading_signals(ema_signal_df,boligner_signal_df,macd_signal_df):\n",
    "    trading_signals_df=pd.concat([ema_signal_df, bolinger_signal_df,mcad_signal_df],axis=1,    join=\"inner\")\n",
    "    trading_signals_df['Signal']=trading_signals_df['EMA Signal']+ trading_signals_df['Bolinger Signal']+ trading_signals_df['MACD Signal']\n",
    "    trading_signals_df['Overall Entry/Exit']=trading_signals_df['Signal'].diff()\n",
    "    return trading_signals_df"
   ]
  }
 ]
}